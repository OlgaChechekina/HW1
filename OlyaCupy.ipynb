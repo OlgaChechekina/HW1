{
  "nbformat": 4,
  "nbformat_minor": 0,
  "metadata": {
    "colab": {
      "name": "OlyaCupy.ipynb",
      "provenance": [],
      "collapsed_sections": [],
      "include_colab_link": true
    },
    "kernelspec": {
      "name": "python3",
      "display_name": "Python 3"
    },
    "accelerator": "GPU"
  },
  "cells": [
    {
      "cell_type": "markdown",
      "metadata": {
        "id": "view-in-github",
        "colab_type": "text"
      },
      "source": [
        "<a href=\"https://colab.research.google.com/github/OlgaChechekina/HW1/blob/master/OlyaCupy.ipynb\" target=\"_parent\"><img src=\"https://colab.research.google.com/assets/colab-badge.svg\" alt=\"Open In Colab\"/></a>"
      ]
    },
    {
      "cell_type": "code",
      "metadata": {
        "id": "CFBO_EwgDWk5",
        "colab_type": "code",
        "colab": {}
      },
      "source": [
        "import cupy as np\n",
        "!nvidia-smi"
      ],
      "execution_count": 0,
      "outputs": []
    },
    {
      "cell_type": "code",
      "metadata": {
        "id": "Q-FtgH5WDgH3",
        "colab_type": "code",
        "colab": {}
      },
      "source": [
        "def needleman_wunsch(x, y, match=1, mismatch=-1, gap=-1):\n",
        "\n",
        "    weight = np.zeros((len(x) + 1, len(y) + 1), dtype=int)\n",
        "    direction = np.zeros_like(weight, dtype=int)\n",
        "    \n",
        "    weight[:, 0] = np.arange(len(x) + 1) * gap\n",
        "    weight[0] = np.arange(len(y) + 1) * gap\n",
        "    \n",
        "    direction_type = np.array([[0, -1, -1], # diag -- 0\n",
        "                               [0, -1, 0], # vertical -- 1\n",
        "                               [0, 0, -1]]) # horizontal -- 2\n",
        "    \n",
        "    direction[1:, 0] = 1\n",
        "    direction[0, 1:] = 2\n",
        "    \n",
        "    for i in range(1, len(x) + 1):\n",
        "        for j in range(1, len(y) + 1):\n",
        "            direction_type[0, 0] = weight[i-1, j-1] + (match if x[i-1] == y[j-1] else mismatch)\n",
        "            direction_type[1, 0] = weight[i-1, j] + gap\n",
        "            direction_type[2, 0] = weight[i, j-1] + gap\n",
        "#            print(direction_type)\n",
        "            weight[i, j] = np.max(direction_type[:, 0])\n",
        "            direction[i, j] = np.argmax(direction_type[:, 0])\n",
        "            \n",
        "#            print(weight)\n",
        "    \n",
        "    x_res, y_res, i, j = '', '', len(x), len(y)\n",
        "    while i != 0 or j != 0:\n",
        "        diff_i, diff_j = direction_type[direction[i, j], 1:]\n",
        "        i += diff_i\n",
        "        j += diff_j\n",
        "        i=int(i)\n",
        "        j=int(j)\n",
        "        if diff_i == diff_j:\n",
        "            x_res += x[i]\n",
        "            y_res += y[j]\n",
        "        elif diff_i == -1:\n",
        "            x_res += x[i]\n",
        "            y_res += '-'\n",
        "        else:\n",
        "            x_res += '-'\n",
        "            y_res += y[j]\n",
        "\n",
        "    return int(weight[-1, -1]), x_res[::-1], y_res[::-1]"
      ],
      "execution_count": 0,
      "outputs": []
    },
    {
      "cell_type": "code",
      "metadata": {
        "id": "l_QdE7a7Qd5m",
        "colab_type": "code",
        "outputId": "7ea69a20-dbcc-4ab8-d6e9-6f1c092d657e",
        "colab": {
          "base_uri": "https://localhost:8080/",
          "height": 35
        }
      },
      "source": [
        "needleman_wunsch('a', 'b')"
      ],
      "execution_count": 0,
      "outputs": [
        {
          "output_type": "execute_result",
          "data": {
            "text/plain": [
              "(-1, 'a', 'b')"
            ]
          },
          "metadata": {
            "tags": []
          },
          "execution_count": 181
        }
      ]
    },
    {
      "cell_type": "code",
      "metadata": {
        "id": "1XgJUR3cPQ0u",
        "colab_type": "code",
        "outputId": "436109f1-6b98-4e8b-8db6-da3073db2121",
        "colab": {
          "base_uri": "https://localhost:8080/",
          "height": 35
        }
      },
      "source": [
        "needleman_wunsch('a', 'b', mismatch=-3)"
      ],
      "execution_count": 0,
      "outputs": [
        {
          "output_type": "execute_result",
          "data": {
            "text/plain": [
              "(-2, '-a', 'b-')"
            ]
          },
          "metadata": {
            "tags": []
          },
          "execution_count": 188
        }
      ]
    },
    {
      "cell_type": "code",
      "metadata": {
        "colab_type": "code",
        "id": "_Ks6DljNSvZW",
        "colab": {}
      },
      "source": [
        "needleman_wunsch('aa', 'b')"
      ],
      "execution_count": 0,
      "outputs": []
    },
    {
      "cell_type": "code",
      "metadata": {
        "colab_type": "code",
        "id": "Rd6Ge9uISvhe",
        "outputId": "3db870e0-4f78-4c5f-8284-3b4fe3b8b6fb",
        "colab": {
          "base_uri": "https://localhost:8080/",
          "height": 35
        }
      },
      "source": [
        "needleman_wunsch('aaaa', 'b', mismatch=-3)"
      ],
      "execution_count": 0,
      "outputs": [
        {
          "output_type": "execute_result",
          "data": {
            "text/plain": [
              "(-5, '-aaaa', 'b----')"
            ]
          },
          "metadata": {
            "tags": []
          },
          "execution_count": 187
        }
      ]
    },
    {
      "cell_type": "code",
      "metadata": {
        "id": "nCpMtJVZUftJ",
        "colab_type": "code",
        "outputId": "c528b60f-8e0d-4f48-ca57-aad0c9d02c84",
        "colab": {
          "base_uri": "https://localhost:8080/",
          "height": 35
        }
      },
      "source": [
        "needleman_wunsch('aaaaa', 'bbbbb', gap=2)"
      ],
      "execution_count": 0,
      "outputs": [
        {
          "output_type": "execute_result",
          "data": {
            "text/plain": [
              "(20, '-----aaaaa', 'bbbbb-----')"
            ]
          },
          "metadata": {
            "tags": []
          },
          "execution_count": 186
        }
      ]
    },
    {
      "cell_type": "code",
      "metadata": {
        "id": "9m-axLb1nsfY",
        "colab_type": "code",
        "colab": {}
      },
      "source": [
        ""
      ],
      "execution_count": 0,
      "outputs": []
    },
    {
      "cell_type": "code",
      "metadata": {
        "id": "tV3-4Z4CUiCH",
        "colab_type": "code",
        "colab": {}
      },
      "source": [
        "needleman_wunsch('tccCAGTTATGTCAGgggacacgagcatgcagagac'.upper(), 'aattgccgccgtcgttttcagCAGTTATGTCAGatc'.upper(),\n",
        "                mismatch=-3)"
      ],
      "execution_count": 0,
      "outputs": []
    },
    {
      "cell_type": "code",
      "metadata": {
        "id": "oUmjGCFNkopb",
        "colab_type": "code",
        "outputId": "c3c7f18b-4d74-43a9-aa19-e81c94181c45",
        "colab": {
          "base_uri": "https://localhost:8080/",
          "height": 35
        }
      },
      "source": [
        "needleman_wunsch(\"gggctgccaa\", \"ggtcgaa\", match=1, mismatch=-1, gap=-1)\n"
      ],
      "execution_count": 0,
      "outputs": [
        {
          "output_type": "execute_result",
          "data": {
            "text/plain": [
              "(2, 'gggctgccaa', '-gg-t-cgaa')"
            ]
          },
          "metadata": {
            "tags": []
          },
          "execution_count": 190
        }
      ]
    },
    {
      "cell_type": "code",
      "metadata": {
        "id": "yimRfDyZkb5D",
        "colab_type": "code",
        "colab": {}
      },
      "source": [
        ""
      ],
      "execution_count": 0,
      "outputs": []
    }
  ]
}