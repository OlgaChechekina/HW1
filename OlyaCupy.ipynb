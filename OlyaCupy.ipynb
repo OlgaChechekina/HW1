{
  "nbformat": 4,
  "nbformat_minor": 0,
  "metadata": {
    "colab": {
      "name": "OlyaCupy.ipynb",
      "provenance": [],
      "collapsed_sections": [],
      "include_colab_link": true
    },
    "kernelspec": {
      "name": "python3",
      "display_name": "Python 3"
    },
    "accelerator": "GPU"
  },
  "cells": [
    {
      "cell_type": "markdown",
      "metadata": {
        "id": "view-in-github",
        "colab_type": "text"
      },
      "source": [
        "<a href=\"https://colab.research.google.com/github/OlgaChechekina/HW1/blob/master/OlyaCupy.ipynb\" target=\"_parent\"><img src=\"https://colab.research.google.com/assets/colab-badge.svg\" alt=\"Open In Colab\"/></a>"
      ]
    },
    {
      "cell_type": "markdown",
      "metadata": {
        "id": "S5kes8gHhwID",
        "colab_type": "text"
      },
      "source": [
        "Импортируем купай\n"
      ]
    },
    {
      "cell_type": "code",
      "metadata": {
        "id": "CFBO_EwgDWk5",
        "colab_type": "code",
        "outputId": "6a8e8781-e98a-48ea-c444-77eb6a5e2193",
        "colab": {
          "base_uri": "https://localhost:8080/",
          "height": 295
        }
      },
      "source": [
        "import cupy as сp\n",
        "!nvidia-smi"
      ],
      "execution_count": 0,
      "outputs": [
        {
          "output_type": "stream",
          "text": [
            "Thu May 28 14:23:13 2020       \n",
            "+-----------------------------------------------------------------------------+\n",
            "| NVIDIA-SMI 440.82       Driver Version: 418.67       CUDA Version: 10.1     |\n",
            "|-------------------------------+----------------------+----------------------+\n",
            "| GPU  Name        Persistence-M| Bus-Id        Disp.A | Volatile Uncorr. ECC |\n",
            "| Fan  Temp  Perf  Pwr:Usage/Cap|         Memory-Usage | GPU-Util  Compute M. |\n",
            "|===============================+======================+======================|\n",
            "|   0  Tesla K80           Off  | 00000000:00:04.0 Off |                    0 |\n",
            "| N/A   73C    P0    72W / 149W |    102MiB / 11441MiB |      0%      Default |\n",
            "+-------------------------------+----------------------+----------------------+\n",
            "                                                                               \n",
            "+-----------------------------------------------------------------------------+\n",
            "| Processes:                                                       GPU Memory |\n",
            "|  GPU       PID   Type   Process name                             Usage      |\n",
            "|=============================================================================|\n",
            "+-----------------------------------------------------------------------------+\n"
          ],
          "name": "stdout"
        }
      ]
    },
    {
      "cell_type": "markdown",
      "metadata": {
        "id": "U8ueKmKJh6l-",
        "colab_type": "text"
      },
      "source": [
        "определяем матрицу, штраф за пропуск и мисмэтч, награда за мэтч"
      ]
    },
    {
      "cell_type": "code",
      "metadata": {
        "id": "Q-FtgH5WDgH3",
        "colab_type": "code",
        "colab": {}
      },
      "source": [
        "def needleman_wunsch(x, y, match=1, mismatch=-1, gap=-1):\n",
        "\n",
        "    weight = сp.zeros((len(x) + 1, len(y) + 1), dtype=int)\n",
        "    direction = сp.zeros_like(weight, dtype=int)\n",
        "    \n",
        "    weight[:, 0] = сp.arange(len(x) + 1) * gap\n",
        "    weight[0] = сp.arange(len(y) + 1) * gap\n",
        "    \n",
        "    direction_type = сp.array([[0, -1, -1], # diag -- 0\n",
        "                               [0, -1, 0], # vertical -- 1\n",
        "                               [0, 0, -1]]) # horizontal -- 2\n",
        "    \n",
        "    direction[1:, 0] = 1\n",
        "    direction[0, 1:] = 2\n",
        "    \n",
        "    for i in range(1, len(x) + 1):\n",
        "        for j in range(1, len(y) + 1):\n",
        "            direction_type[0, 0] = weight[i-1, j-1] + (match if x[i-1] == y[j-1] else mismatch)\n",
        "            direction_type[1, 0] = weight[i-1, j] + gap\n",
        "            direction_type[2, 0] = weight[i, j-1] + gap\n",
        "#            print(direction_type)\n",
        "            weight[i, j] = сp.max(direction_type[:, 0])\n",
        "            direction[i, j] = сp.argmax(direction_type[:, 0])\n",
        "            \n",
        "#            print(weight)\n",
        "    \n",
        "    x_res, y_res, i, j = '', '', len(x), len(y)\n",
        "    while i != 0 or j != 0:\n",
        "        diff_i, diff_j = direction_type[direction[i, j], 1:]\n",
        "        i += diff_i\n",
        "        j += diff_j\n",
        "        i=int(i)\n",
        "        j=int(j)\n",
        "        if diff_i == diff_j:\n",
        "            x_res += x[i]\n",
        "            y_res += y[j]\n",
        "        elif diff_i == -1:\n",
        "            x_res += x[i]\n",
        "            y_res += '-'\n",
        "        else:\n",
        "            x_res += '-'\n",
        "            y_res += y[j]\n",
        "\n",
        "    return int(weight[-1, -1]), x_res[::-1], y_res[::-1]"
      ],
      "execution_count": 0,
      "outputs": []
    },
    {
      "cell_type": "code",
      "metadata": {
        "id": "l_QdE7a7Qd5m",
        "colab_type": "code",
        "outputId": "00b39752-a5d8-47a2-dfd3-a3f43a4053a1",
        "colab": {
          "base_uri": "https://localhost:8080/",
          "height": 35
        }
      },
      "source": [
        "needleman_wunsch('a', 'b')"
      ],
      "execution_count": 0,
      "outputs": [
        {
          "output_type": "execute_result",
          "data": {
            "text/plain": [
              "(-1, 'a', 'b')"
            ]
          },
          "metadata": {
            "tags": []
          },
          "execution_count": 193
        }
      ]
    },
    {
      "cell_type": "code",
      "metadata": {
        "id": "1XgJUR3cPQ0u",
        "colab_type": "code",
        "outputId": "9d5e460b-b2d8-402a-bc45-aa53213c7165",
        "colab": {
          "base_uri": "https://localhost:8080/",
          "height": 35
        }
      },
      "source": [
        "needleman_wunsch('a', 'b', mismatch=-3)"
      ],
      "execution_count": 0,
      "outputs": [
        {
          "output_type": "execute_result",
          "data": {
            "text/plain": [
              "(-2, '-a', 'b-')"
            ]
          },
          "metadata": {
            "tags": []
          },
          "execution_count": 195
        }
      ]
    },
    {
      "cell_type": "code",
      "metadata": {
        "colab_type": "code",
        "id": "_Ks6DljNSvZW",
        "outputId": "f9a6c8d6-a725-4ea3-e669-ae9f0f4bcace",
        "colab": {
          "base_uri": "https://localhost:8080/",
          "height": 35
        }
      },
      "source": [
        "needleman_wunsch('aa', 'b')"
      ],
      "execution_count": 0,
      "outputs": [
        {
          "output_type": "execute_result",
          "data": {
            "text/plain": [
              "(-2, 'aa', '-b')"
            ]
          },
          "metadata": {
            "tags": []
          },
          "execution_count": 196
        }
      ]
    },
    {
      "cell_type": "code",
      "metadata": {
        "colab_type": "code",
        "id": "Rd6Ge9uISvhe",
        "outputId": "3db870e0-4f78-4c5f-8284-3b4fe3b8b6fb",
        "colab": {
          "base_uri": "https://localhost:8080/",
          "height": 35
        }
      },
      "source": [
        "needleman_wunsch('aaaa', 'b', mismatch=-3)"
      ],
      "execution_count": 0,
      "outputs": [
        {
          "output_type": "execute_result",
          "data": {
            "text/plain": [
              "(-5, '-aaaa', 'b----')"
            ]
          },
          "metadata": {
            "tags": []
          },
          "execution_count": 187
        }
      ]
    },
    {
      "cell_type": "code",
      "metadata": {
        "id": "nCpMtJVZUftJ",
        "colab_type": "code",
        "outputId": "c528b60f-8e0d-4f48-ca57-aad0c9d02c84",
        "colab": {
          "base_uri": "https://localhost:8080/",
          "height": 35
        }
      },
      "source": [
        "needleman_wunsch('aaaaa', 'bbbbb', gap=2)"
      ],
      "execution_count": 0,
      "outputs": [
        {
          "output_type": "execute_result",
          "data": {
            "text/plain": [
              "(20, '-----aaaaa', 'bbbbb-----')"
            ]
          },
          "metadata": {
            "tags": []
          },
          "execution_count": 186
        }
      ]
    },
    {
      "cell_type": "code",
      "metadata": {
        "id": "tV3-4Z4CUiCH",
        "colab_type": "code",
        "colab": {}
      },
      "source": [
        "needleman_wunsch('tccCAGTTATGTCAGgggacacgagcatgcagagac'.upper(), 'aattgccgccgtcgttttcagCAGTTATGTCAGatc'.upper(),\n",
        "                mismatch=-3)"
      ],
      "execution_count": 0,
      "outputs": []
    },
    {
      "cell_type": "markdown",
      "metadata": {
        "id": "Qkmh7CXmiLgC",
        "colab_type": "text"
      },
      "source": [
        "Пример расчета "
      ]
    },
    {
      "cell_type": "code",
      "metadata": {
        "id": "oUmjGCFNkopb",
        "colab_type": "code",
        "outputId": "80271f2a-246b-4fb7-97da-06927410481b",
        "colab": {
          "base_uri": "https://localhost:8080/",
          "height": 35
        }
      },
      "source": [
        "needleman_wunsch(\"gggctgccaa\", \"ggtcgaa\", match=1, mismatch=-1, gap=-1)\n"
      ],
      "execution_count": 0,
      "outputs": [
        {
          "output_type": "execute_result",
          "data": {
            "text/plain": [
              "(2, 'gggctgccaa', '-gg-t-cgaa')"
            ]
          },
          "metadata": {
            "tags": []
          },
          "execution_count": 197
        }
      ]
    },
    {
      "cell_type": "code",
      "metadata": {
        "id": "yimRfDyZkb5D",
        "colab_type": "code",
        "colab": {}
      },
      "source": [
        ""
      ],
      "execution_count": 0,
      "outputs": []
    }
  ]
}